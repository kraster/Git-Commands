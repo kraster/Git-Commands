{
 "cells": [
  {
   "cell_type": "markdown",
   "metadata": {},
   "source": [
    "<img src=\"https://www.atlassian.com/git/images/atlassian-getting-git-right.jpg\" alt=\"git.image\" style=\"width: 250px;\"/>\n",
    "# <center>Basic commands<center>"
   ]
  },
  {
   "cell_type": "markdown",
   "metadata": {},
   "source": [
    "\n",
    "\n",
    "### Contents\n",
    "1. Configure GIT\n",
    "2. Create repositories\n",
    "3. Core GIT commands\n",
    "4. Branches commands\n",
    "5. Log commands\n",
    "6. Reset commands\n",
    "7. Refactor filenames\n",
    "\n",
    "### Sources and more commands can be found on the following links\n",
    "http://www.git-tower.com/blog/git-cheat-sheet/\n",
    "\n",
    "https://training.github.com/kit/downloads/github-git-cheat-sheet.pdf"
   ]
  },
  {
   "cell_type": "markdown",
   "metadata": {},
   "source": [
    "### 1. Configure GIT\n",
    "* **git config --global user.name \"[name]\"**\n",
    "* **git config --global user.email \"[email/address]\"**"
   ]
  },
  {
   "cell_type": "markdown",
   "metadata": {},
   "source": [
    "### 2. Create repositories\n",
    "* Clone a repository: **git clone repo.git**\n",
    "* Create a new local repository: **git init [project-name]**"
   ]
  },
  {
   "cell_type": "markdown",
   "metadata": {},
   "source": [
    "### 3. Core GIT commands\n",
    "* Changed files in your working directory: **git status**\n",
    "* Changes to tracked files: **git diff**\n",
    "* Changes between two branches: **git diff [first-branch] [second-branch]**\n",
    "\n",
    "* Add files to commit: **git add** (add all files - **git add .**)\n",
    "* Commit: **git commit -m \"new changes\"** (commit all local changes - git commit -A)\n",
    "\n",
    "* Download changes: **git pull**\n",
    "* Publish local changes: **git push**"
   ]
  },
  {
   "cell_type": "markdown",
   "metadata": {
    "collapsed": true
   },
   "source": [
    "### 4. Branches commands\n",
    "* List all current branches: **git branch**\n",
    "* Create a new branch: **git branch <branch>**\n",
    "* Push upstream a new branch: **git push --set-upstream origin <branch>**\n",
    "* Switch HEAD branch: **git checkout <branch>**\n",
    "* Create a new tracking branch based on a remote branch: **git checkout --track <remote/branch>**\n",
    "* Delete a local branch: **git branch -d <branch>**\n",
    "* Delete a branch on the remote: **git branch -dr <branch>**"
   ]
  },
  {
   "cell_type": "markdown",
   "metadata": {},
   "source": [
    "### 5. Log commands\n",
    "* Show all commits, starting with the newest: **git log**\n",
    "* Show changes over time for a specific file: **git log -p <file>**\n",
    "* Who changes what and when in <file>: **git blame <file>** (**q to exit**)"
   ]
  },
  {
   "cell_type": "markdown",
   "metadata": {},
   "source": [
    "### 6. Reset commands\n",
    "* Discard all local changes in your working diretory: **git reset --hard HEAD**\n",
    "* Discard local changes in a specific file: **git checkout HEAD <file>**\n",
    "* Revert a commit: **git revert <commit>**\n",
    "* Reset your HEAD pointer to a previous commit and discard all changes since then: **git reset --hard <commit>**"
   ]
  },
  {
   "cell_type": "markdown",
   "metadata": {},
   "source": [
    "### 7. Refactor filenames\n",
    "* Delete file from the working directory and stage deletion: **git rm [file]**\n",
    "* Changes the file name and prepares it for commit: **git mv [file-original] [file-renamed]**"
   ]
  },
  {
   "cell_type": "code",
   "execution_count": null,
   "metadata": {
    "collapsed": true
   },
   "outputs": [],
   "source": []
  }
 ],
 "metadata": {
  "kernelspec": {
   "display_name": "Python 2",
   "language": "python",
   "name": "python2"
  },
  "language_info": {
   "codemirror_mode": {
    "name": "ipython",
    "version": 2
   },
   "file_extension": ".py",
   "mimetype": "text/x-python",
   "name": "python",
   "nbconvert_exporter": "python",
   "pygments_lexer": "ipython2",
   "version": "2.7.10"
  }
 },
 "nbformat": 4,
 "nbformat_minor": 0
}
