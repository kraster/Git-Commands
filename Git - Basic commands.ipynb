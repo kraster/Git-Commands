{
 "cells": [
  {
   "cell_type": "markdown",
   "metadata": {},
   "source": [
    "<img src=\"https://www.atlassian.com/git/images/atlassian-getting-git-right.jpg\" alt=\"git.image\" style=\"width: 250px;\"/>\n",
    "# <center>Basic commands<center>"
   ]
  },
  {
   "cell_type": "markdown",
   "metadata": {},
   "source": [
    "\n",
    "\n",
    "### Contents\n",
    "1. Configure GIT\n",
    "2. Create repositories\n",
    "3. Core GIT commands\n",
    "4. Branches commands\n",
    "5. Log commands\n",
    "6. Reset commands\n",
    "7. Refactor filenames\n",
    "\n",
    "### Sources and more commands can be found on the following links\n",
    "http://www.git-tower.com/blog/git-cheat-sheet/\n",
    "\n",
    "https://training.github.com/kit/downloads/github-git-cheat-sheet.pdf"
   ]
  },
  {
   "cell_type": "markdown",
   "metadata": {},
   "source": [
    "### 1. Configure GIT\n",
    "* **git config --global user.name \"[name]\"**\n",
    "* **git config --global user.email \"[email/address]\"**"
   ]
  },
  {
   "cell_type": "markdown",
   "metadata": {},
   "source": [
    "### 2. Create repositories\n",
    "* Clone a repository: **git clone repo.git**\n",
    "* Create a new local repository: **git init [project-name]**"
   ]
  },
  {
   "cell_type": "markdown",
   "metadata": {},
   "source": [
    "### 3. Core GIT commands\n",
    "* Changed files in your working directory: **git status**\n",
    "* Changes to tracked files: **git diff**\n",
    "* Changes between two branches: **git diff [first-branch] [second-branch]**\n",
    "\n",
    "* Add files to commit: **git add** (add all files - **git add .**)\n",
    "* Commit: **git commit -m \"new changes\"** (commit all local changes - git commit -A)\n",
    "\n",
    "* Download changes: **git pull**\n",
    "* Publish local changes: **git push**"
   ]
  },
  {
   "cell_type": "code",
   "execution_count": null,
   "metadata": {
    "collapsed": true
   },
   "outputs": [],
   "source": []
  }
 ],
 "metadata": {
  "kernelspec": {
   "display_name": "Python 2",
   "language": "python",
   "name": "python2"
  },
  "language_info": {
   "codemirror_mode": {
    "name": "ipython",
    "version": 2
   },
   "file_extension": ".py",
   "mimetype": "text/x-python",
   "name": "python",
   "nbconvert_exporter": "python",
   "pygments_lexer": "ipython2",
   "version": "2.7.10"
  }
 },
 "nbformat": 4,
 "nbformat_minor": 0
}
